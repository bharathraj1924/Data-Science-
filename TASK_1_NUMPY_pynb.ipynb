{
  "nbformat": 4,
  "nbformat_minor": 0,
  "metadata": {
    "colab": {
      "provenance": [],
      "include_colab_link": true
    },
    "kernelspec": {
      "name": "python3",
      "display_name": "Python 3"
    },
    "language_info": {
      "name": "python"
    }
  },
  "cells": [
    {
      "cell_type": "markdown",
      "metadata": {
        "id": "view-in-github",
        "colab_type": "text"
      },
      "source": [
        "<a href=\"https://colab.research.google.com/github/bharathraj1924/Data-Science-/blob/main/TASK_1_NUMPY_pynb.ipynb\" target=\"_parent\"><img src=\"https://colab.research.google.com/assets/colab-badge.svg\" alt=\"Open In Colab\"/></a>"
      ]
    },
    {
      "cell_type": "markdown",
      "source": [
        "important NumPy Functions"
      ],
      "metadata": {
        "id": "iP13HTiiuPyp"
      }
    },
    {
      "cell_type": "markdown",
      "source": [
        "Mathematical functions"
      ],
      "metadata": {
        "id": "lU4fRs2dZ29D"
      }
    },
    {
      "cell_type": "code",
      "execution_count": null,
      "metadata": {
        "colab": {
          "base_uri": "https://localhost:8080/"
        },
        "id": "LKT_kbwAZmIB",
        "outputId": "7413c2b0-fded-4848-eab4-a622279f7bb8"
      },
      "outputs": [
        {
          "output_type": "stream",
          "name": "stdout",
          "text": [
            "15\n"
          ]
        }
      ],
      "source": [
        "import numpy as np\n",
        "my_array = np.array([0,1,2,3,4,5])\n",
        "sum_of_elements = np.sum(my_array)\n",
        "print(sum_of_elements)"
      ]
    },
    {
      "cell_type": "code",
      "source": [
        "my_array = np.array([0,1,2,3,4,5])\n",
        "mean_of_elements = np.mean(my_array)\n",
        "print (mean_of_elements)"
      ],
      "metadata": {
        "colab": {
          "base_uri": "https://localhost:8080/"
        },
        "id": "0LkXhH4Mbj9C",
        "outputId": "dce3c7b8-5c8f-41c5-d71b-c889c76added"
      },
      "execution_count": null,
      "outputs": [
        {
          "output_type": "stream",
          "name": "stdout",
          "text": [
            "2.5\n"
          ]
        }
      ]
    },
    {
      "cell_type": "code",
      "source": [
        "my_array = np.array([0,1,2,3,4,5])\n",
        "median_of_elements = np.median(my_array)\n",
        "print(median_of_elements)"
      ],
      "metadata": {
        "colab": {
          "base_uri": "https://localhost:8080/"
        },
        "id": "uHoIyPjpchzg",
        "outputId": "53dbff0c-10ea-4627-bb16-f91ef28717d5"
      },
      "execution_count": null,
      "outputs": [
        {
          "output_type": "stream",
          "name": "stdout",
          "text": [
            "2.5\n"
          ]
        }
      ]
    },
    {
      "cell_type": "code",
      "source": [
        "my_array = np.array([0,1,2,3,4,5])\n",
        "std_of_elements = np.std(my_array)\n",
        "print (std_of_elements)"
      ],
      "metadata": {
        "colab": {
          "base_uri": "https://localhost:8080/"
        },
        "id": "k_2wlcz2dLfn",
        "outputId": "b622fdcd-bf99-4684-dcc0-b55340caa937"
      },
      "execution_count": null,
      "outputs": [
        {
          "output_type": "stream",
          "name": "stdout",
          "text": [
            "1.707825127659933\n"
          ]
        }
      ]
    },
    {
      "cell_type": "code",
      "source": [
        "my_array = np.array([0,1,2,3,4,5])\n",
        "min_of_elements = np.min(my_array)\n",
        "print (min_of_elements)"
      ],
      "metadata": {
        "colab": {
          "base_uri": "https://localhost:8080/"
        },
        "id": "ff1ADQ1Idtfn",
        "outputId": "01c1c823-dce8-4d56-c4f5-a08c19367d7e"
      },
      "execution_count": null,
      "outputs": [
        {
          "output_type": "stream",
          "name": "stdout",
          "text": [
            "0\n"
          ]
        }
      ]
    },
    {
      "cell_type": "code",
      "source": [
        "my_array = np.array([0,1,2,3,4,5])\n",
        "max_of_elements = np.max(my_array)\n",
        "print (max_of_elements)"
      ],
      "metadata": {
        "colab": {
          "base_uri": "https://localhost:8080/"
        },
        "id": "RFfy1d5Hd-xp",
        "outputId": "ff5cab8a-52a7-4048-f1be-0aead52d4041"
      },
      "execution_count": null,
      "outputs": [
        {
          "output_type": "stream",
          "name": "stdout",
          "text": [
            "5\n"
          ]
        }
      ]
    },
    {
      "cell_type": "markdown",
      "source": [
        "Array Manipulation"
      ],
      "metadata": {
        "id": "PwEFyuNGeLgt"
      }
    },
    {
      "cell_type": "code",
      "source": [
        "\n",
        "import numpy as np\n",
        "original_array = np.array([[1, 2, 3], [4, 5, 6]])\n",
        "reshaped_array = np.reshape(original_array, (3, 2))\n",
        "print(reshaped_array)"
      ],
      "metadata": {
        "colab": {
          "base_uri": "https://localhost:8080/"
        },
        "id": "Vahi3zkigV8W",
        "outputId": "f9fd1d0a-9f1c-40b2-be46-8b11bb4da4e9"
      },
      "execution_count": null,
      "outputs": [
        {
          "output_type": "stream",
          "name": "stdout",
          "text": [
            "[[1 2]\n",
            " [3 4]\n",
            " [5 6]]\n"
          ]
        }
      ]
    },
    {
      "cell_type": "code",
      "source": [
        "array1 = np.array([1,2,3])\n",
        "array2 = np.array([4,5,6])\n",
        "concatenated_array = np.concatenate((array1,array2))\n",
        "print(concatenated_array)"
      ],
      "metadata": {
        "colab": {
          "base_uri": "https://localhost:8080/"
        },
        "id": "pMD1IrhTgwGI",
        "outputId": "d80c1607-a575-4d80-e615-db076f60a71c"
      },
      "execution_count": null,
      "outputs": [
        {
          "output_type": "stream",
          "name": "stdout",
          "text": [
            "[1 2 3 4 5 6]\n"
          ]
        }
      ]
    },
    {
      "cell_type": "code",
      "source": [
        "original_array = np.array([1,2,3,4,5,7,8,9,10])\n",
        "split_array = np.split(original_array,3)\n",
        "print (split_array)"
      ],
      "metadata": {
        "colab": {
          "base_uri": "https://localhost:8080/"
        },
        "id": "r5f1w951iHNF",
        "outputId": "0f15d058-ac20-4cf7-c22d-d24d5de47a5d"
      },
      "execution_count": null,
      "outputs": [
        {
          "output_type": "stream",
          "name": "stdout",
          "text": [
            "[array([1, 2, 3]), array([4, 5, 7]), array([ 8,  9, 10])]\n"
          ]
        }
      ]
    },
    {
      "cell_type": "code",
      "source": [
        "original_array = np.array([[1,2,3],[4,5,6]])\n",
        "transposed_array = np.transpose(original_array)\n",
        "print (transposed_array)"
      ],
      "metadata": {
        "colab": {
          "base_uri": "https://localhost:8080/"
        },
        "id": "ZWNFerffjfE8",
        "outputId": "14cdd891-77cb-4126-8bfc-7fc520090a9c"
      },
      "execution_count": null,
      "outputs": [
        {
          "output_type": "stream",
          "name": "stdout",
          "text": [
            "[[1 4]\n",
            " [2 5]\n",
            " [3 6]]\n"
          ]
        }
      ]
    },
    {
      "cell_type": "markdown",
      "source": [
        "Array Operations"
      ],
      "metadata": {
        "id": "k1gUJvCrkReO"
      }
    },
    {
      "cell_type": "code",
      "source": [
        "array1 = np.array([1,2,3])\n",
        "array2 = np.array([4,5,6])\n",
        "result_array = np.add(array1,array2)\n",
        "print (result_array)"
      ],
      "metadata": {
        "colab": {
          "base_uri": "https://localhost:8080/"
        },
        "id": "mb1FDO4AkoA_",
        "outputId": "31d32a6f-fb3b-4d30-bf75-cded416f6928"
      },
      "execution_count": null,
      "outputs": [
        {
          "output_type": "stream",
          "name": "stdout",
          "text": [
            "[5 7 9]\n"
          ]
        }
      ]
    },
    {
      "cell_type": "code",
      "source": [
        "array1 = np.array([1,2,3])\n",
        "array2 = np.array([4,5,6])\n",
        "result_array = np.subtract(array1,array2)\n",
        "print (result_array)"
      ],
      "metadata": {
        "colab": {
          "base_uri": "https://localhost:8080/"
        },
        "id": "gf6W_HaOlBpX",
        "outputId": "5eaf1222-b5e9-4cad-91ed-62cc903a0166"
      },
      "execution_count": null,
      "outputs": [
        {
          "output_type": "stream",
          "name": "stdout",
          "text": [
            "[-3 -3 -3]\n"
          ]
        }
      ]
    },
    {
      "cell_type": "code",
      "source": [
        "array1 = np.array([1,2,3])\n",
        "array2 = np.array([4,5,6])\n",
        "result_array = np.multiply(array1,array2)\n",
        "print (result_array)"
      ],
      "metadata": {
        "colab": {
          "base_uri": "https://localhost:8080/"
        },
        "id": "Q8n35r0Ql28v",
        "outputId": "b3bc46bb-fd3e-438c-e918-f83bd4cc3f53"
      },
      "execution_count": null,
      "outputs": [
        {
          "output_type": "stream",
          "name": "stdout",
          "text": [
            "[ 4 10 18]\n"
          ]
        }
      ]
    },
    {
      "cell_type": "code",
      "source": [
        "array1 = np.array([1,2,3])\n",
        "array2 = np.array([4,5,6])\n",
        "result_array = np.divide(array1,array2)\n",
        "print (result_array)"
      ],
      "metadata": {
        "colab": {
          "base_uri": "https://localhost:8080/"
        },
        "id": "XOMeYQxMobns",
        "outputId": "6703af13-c638-4537-8bfc-a9bae750ed2c"
      },
      "execution_count": null,
      "outputs": [
        {
          "output_type": "stream",
          "name": "stdout",
          "text": [
            "[0.25 0.4  0.5 ]\n"
          ]
        }
      ]
    },
    {
      "cell_type": "code",
      "source": [
        "array1 = np.array([1,2,3])\n",
        "array2 = np.array([4,5,6])\n",
        "result_array = np.dot(array1,array2)\n",
        "print (result_array)"
      ],
      "metadata": {
        "colab": {
          "base_uri": "https://localhost:8080/"
        },
        "id": "JWYZE4KGonBB",
        "outputId": "9b4c8d7f-b4b1-4cc2-c88d-2ae5be49b2ef"
      },
      "execution_count": null,
      "outputs": [
        {
          "output_type": "stream",
          "name": "stdout",
          "text": [
            "32\n"
          ]
        }
      ]
    },
    {
      "cell_type": "markdown",
      "source": [
        "Trigonometry functions"
      ],
      "metadata": {
        "id": "SKtxZG5dqFSx"
      }
    },
    {
      "cell_type": "code",
      "source": [
        "angles = np.array([0,np.pi/2,np.pi])\n",
        "sine_values = np.sin(angles)\n",
        "print (sine_values)"
      ],
      "metadata": {
        "colab": {
          "base_uri": "https://localhost:8080/"
        },
        "id": "WFQkqH6iqH6r",
        "outputId": "779df9dd-395a-4d5e-8ce7-0d90c0f48744"
      },
      "execution_count": null,
      "outputs": [
        {
          "output_type": "stream",
          "name": "stdout",
          "text": [
            "[0.0000000e+00 1.0000000e+00 1.2246468e-16]\n"
          ]
        }
      ]
    },
    {
      "cell_type": "code",
      "source": [
        "angles = np.array([0,np.pi/2,np.pi])\n",
        "cosine_values = np.cos(angles)\n",
        "print (cosine_values)"
      ],
      "metadata": {
        "colab": {
          "base_uri": "https://localhost:8080/"
        },
        "id": "LmIeiTFPrEqp",
        "outputId": "515de061-dd76-41e6-f3cf-ded3f68ea2cf"
      },
      "execution_count": null,
      "outputs": [
        {
          "output_type": "stream",
          "name": "stdout",
          "text": [
            "[ 1.000000e+00  6.123234e-17 -1.000000e+00]\n"
          ]
        }
      ]
    },
    {
      "cell_type": "code",
      "source": [
        "angles = np.array([0,np.pi/2,np.pi])\n",
        "tangent_values = np.tan(angles)\n",
        "print (tangent_values)"
      ],
      "metadata": {
        "colab": {
          "base_uri": "https://localhost:8080/"
        },
        "id": "_wq86rZtrgd0",
        "outputId": "9f7f2175-a939-470c-f79b-c289f7329e49"
      },
      "execution_count": null,
      "outputs": [
        {
          "output_type": "stream",
          "name": "stdout",
          "text": [
            "[ 0.00000000e+00  1.63312394e+16 -1.22464680e-16]\n"
          ]
        }
      ]
    },
    {
      "cell_type": "code",
      "source": [
        "sin_values = np.array([0,9,8,7])\n",
        "angles = np.arcsin(sin_values)\n",
        "print (angles)"
      ],
      "metadata": {
        "colab": {
          "base_uri": "https://localhost:8080/"
        },
        "id": "00DLWVuvrw9C",
        "outputId": "961a9a98-f780-41c8-f87f-bfc3252951af"
      },
      "execution_count": null,
      "outputs": [
        {
          "output_type": "stream",
          "name": "stdout",
          "text": [
            "[ 0. nan nan nan]\n"
          ]
        },
        {
          "output_type": "stream",
          "name": "stderr",
          "text": [
            "<ipython-input-36-b8a5a1cb635f>:2: RuntimeWarning: invalid value encountered in arcsin\n",
            "  angles = np.arcsin(sin_values)\n"
          ]
        }
      ]
    },
    {
      "cell_type": "code",
      "source": [
        "import numpy as np\n",
        "cos_values = np.array([1, 0.5, 0, -0.5, -1])\n",
        "angles = np.arccos(cos_values)\n",
        "print(\"Cosine values:\", cos_values)\n",
        "print(\"Corresponding angles (in radians):\", angles)\n"
      ],
      "metadata": {
        "colab": {
          "base_uri": "https://localhost:8080/"
        },
        "id": "QXc6Oz3cnthQ",
        "outputId": "964715c3-370c-4e4f-ba82-7f844078e4b9"
      },
      "execution_count": null,
      "outputs": [
        {
          "output_type": "stream",
          "name": "stdout",
          "text": [
            "Cosine values: [ 1.   0.5  0.  -0.5 -1. ]\n",
            "Corresponding angles (in radians): [0.         1.04719755 1.57079633 2.0943951  3.14159265]\n"
          ]
        }
      ]
    },
    {
      "cell_type": "code",
      "source": [
        "import numpy as np\n",
        "tan_values = np.array([0, 1, -1, np.sqrt(3), -np.sqrt(3)])\n",
        "angles = np.arctan(tan_values)\n",
        "print(\"Tangent values:\", tan_values)\n",
        "print(\"Corresponding angles (in radians):\", angles)\n"
      ],
      "metadata": {
        "colab": {
          "base_uri": "https://localhost:8080/"
        },
        "id": "Tz-VSMLRoB63",
        "outputId": "141bdb46-3d59-4940-a0e6-23f548f8087f"
      },
      "execution_count": null,
      "outputs": [
        {
          "output_type": "stream",
          "name": "stdout",
          "text": [
            "Tangent values: [ 0.          1.         -1.          1.73205081 -1.73205081]\n",
            "Corresponding angles (in radians): [ 0.          0.78539816 -0.78539816  1.04719755 -1.04719755]\n"
          ]
        }
      ]
    },
    {
      "cell_type": "markdown",
      "source": [
        "Random"
      ],
      "metadata": {
        "id": "EQtghWUrodLS"
      }
    },
    {
      "cell_type": "code",
      "source": [
        "import numpy as np\n",
        "random_array = np.random.rand(5)\n",
        "print(\"Random array:\", random_array)\n"
      ],
      "metadata": {
        "colab": {
          "base_uri": "https://localhost:8080/"
        },
        "id": "bNiYboodobmH",
        "outputId": "82660f27-c3b5-459a-ec16-c6007e878db2"
      },
      "execution_count": null,
      "outputs": [
        {
          "output_type": "stream",
          "name": "stdout",
          "text": [
            "Random array: [0.81607215 0.59455347 0.07794015 0.69293444 0.45121858]\n"
          ]
        }
      ]
    },
    {
      "cell_type": "code",
      "source": [
        "import numpy as np\n",
        "random_array = np.random.randn(5)\n",
        "print(\"Random array from standard normal distribution:\", random_array)\n"
      ],
      "metadata": {
        "colab": {
          "base_uri": "https://localhost:8080/"
        },
        "id": "c-32E9ttovqJ",
        "outputId": "4673353d-82ad-4ae9-998f-bb16d5b8fe08"
      },
      "execution_count": null,
      "outputs": [
        {
          "output_type": "stream",
          "name": "stdout",
          "text": [
            "Random array from standard normal distribution: [ 0.1955169  -1.10673799 -0.3493681  -0.3952131   0.44947484]\n"
          ]
        }
      ]
    },
    {
      "cell_type": "code",
      "source": [
        "import numpy as np\n",
        "random_integer = np.random.randint(0, 10)\n",
        "print(\"Random integer:\", random_integer)\n"
      ],
      "metadata": {
        "colab": {
          "base_uri": "https://localhost:8080/"
        },
        "id": "VWOsX_2Xo7oI",
        "outputId": "a7b9e3b8-8418-4230-e445-39577a95fe54"
      },
      "execution_count": null,
      "outputs": [
        {
          "output_type": "stream",
          "name": "stdout",
          "text": [
            "Random integer: 9\n"
          ]
        }
      ]
    },
    {
      "cell_type": "code",
      "source": [
        "import numpy as np\n",
        "arr = np.array([1, 2, 3, 4, 5])\n",
        "print(\"Original array:\", arr)\n",
        "np.random.shuffle(arr)\n",
        "print(\"Shuffled array:\", arr)\n"
      ],
      "metadata": {
        "colab": {
          "base_uri": "https://localhost:8080/"
        },
        "id": "bDkVVwEqpMbB",
        "outputId": "be83ea22-2d61-4398-8301-c00e36615ca2"
      },
      "execution_count": null,
      "outputs": [
        {
          "output_type": "stream",
          "name": "stdout",
          "text": [
            "Original array: [1 2 3 4 5]\n",
            "Shuffled array: [2 1 3 4 5]\n"
          ]
        }
      ]
    },
    {
      "cell_type": "code",
      "source": [
        "import numpy as np\n",
        "\n",
        "data = np.array([1, 2, 3, 4, 5, 6, 7, 8, 9, 10])\n",
        "percentile_25 = np.percentile(data, 25)\n",
        "percentile_75 = np.percentile(data, 75)\n",
        "print(\"Data:\", data)\n",
        "print(\"25th Percentile:\", percentile_25)\n",
        "print(\"75th Percentile:\", percentile_75)\n"
      ],
      "metadata": {
        "colab": {
          "base_uri": "https://localhost:8080/"
        },
        "id": "ltpRH91HpyJA",
        "outputId": "3849e27e-f8be-44d9-ae3b-883e0e791cfd"
      },
      "execution_count": null,
      "outputs": [
        {
          "output_type": "stream",
          "name": "stdout",
          "text": [
            "Data: [ 1  2  3  4  5  6  7  8  9 10]\n",
            "25th Percentile: 3.25\n",
            "75th Percentile: 7.75\n"
          ]
        }
      ]
    },
    {
      "cell_type": "code",
      "source": [
        "import numpy as np\n",
        "x = np.array([1, 2, 3, 4, 5])\n",
        "y = np.array([2, 4, 1, 5, 7])\n",
        "correlation_matrix = np.corrcoef(x, y)\n",
        "print(\"Array x:\", x)\n",
        "print(\"Array y:\", y)\n",
        "print(\"Correlation matrix:\")\n",
        "print(correlation_matrix)\n"
      ],
      "metadata": {
        "colab": {
          "base_uri": "https://localhost:8080/"
        },
        "id": "TXyVRNLdrAJE",
        "outputId": "83c39e01-7371-49fd-804e-50ab567cdc07"
      },
      "execution_count": null,
      "outputs": [
        {
          "output_type": "stream",
          "name": "stdout",
          "text": [
            "Array x: [1 2 3 4 5]\n",
            "Array y: [2 4 1 5 7]\n",
            "Correlation matrix:\n",
            "[[1.        0.7284928]\n",
            " [0.7284928 1.       ]]\n"
          ]
        }
      ]
    },
    {
      "cell_type": "markdown",
      "source": [
        "Logic Operations"
      ],
      "metadata": {
        "id": "XegBpP4BrKPU"
      }
    },
    {
      "cell_type": "code",
      "source": [
        "import numpy as np\n",
        "\n",
        "arr1 = np.array([True, True, False, False])\n",
        "arr2 = np.array([True, False, True, False])\n",
        "result = np.logical_and(arr1, arr2)\n",
        "print(\"Array 1:\", arr1)\n",
        "print(\"Array 2:\", arr2)\n",
        "print(\"Logical AND result:\", result)\n"
      ],
      "metadata": {
        "colab": {
          "base_uri": "https://localhost:8080/"
        },
        "id": "Dg9jF9iCrJGd",
        "outputId": "ba3bc60c-7f31-4ea0-9e26-ef9515c5cddb"
      },
      "execution_count": null,
      "outputs": [
        {
          "output_type": "stream",
          "name": "stdout",
          "text": [
            "Array 1: [ True  True False False]\n",
            "Array 2: [ True False  True False]\n",
            "Logical AND result: [ True False False False]\n"
          ]
        }
      ]
    },
    {
      "cell_type": "code",
      "source": [
        "import numpy as np\n",
        "\n",
        "arr1 = np.array([True, True, False, False])\n",
        "arr2 = np.array([True, False, True, False])\n",
        "result = np.logical_or(arr1, arr2)\n",
        "print(\"Array 1:\", arr1)\n",
        "print(\"Array 2:\", arr2)\n",
        "print(\"Logical OR result:\", result)\n"
      ],
      "metadata": {
        "colab": {
          "base_uri": "https://localhost:8080/"
        },
        "id": "_e3TUVsorfAN",
        "outputId": "21fda8c5-3c8c-4d77-bf63-dc0e66336295"
      },
      "execution_count": null,
      "outputs": [
        {
          "output_type": "stream",
          "name": "stdout",
          "text": [
            "Array 1: [ True  True False False]\n",
            "Array 2: [ True False  True False]\n",
            "Logical OR result: [ True  True  True False]\n"
          ]
        }
      ]
    },
    {
      "cell_type": "code",
      "source": [
        "import numpy as np\n",
        "arr = np.array([True, False, True, False])\n",
        "result = np.logical_not(arr)\n",
        "print(\"Original array:\", arr)\n",
        "print(\"Logical NOT result:\", result)\n"
      ],
      "metadata": {
        "colab": {
          "base_uri": "https://localhost:8080/"
        },
        "id": "CNNBP_Lur3P5",
        "outputId": "a5d1e05b-bc2b-47df-fd31-c51e1c3f8d73"
      },
      "execution_count": null,
      "outputs": [
        {
          "output_type": "stream",
          "name": "stdout",
          "text": [
            "Original array: [ True False  True False]\n",
            "Logical NOT result: [False  True False  True]\n"
          ]
        }
      ]
    },
    {
      "cell_type": "markdown",
      "source": [
        "\n",
        "Linear Algebra"
      ],
      "metadata": {
        "id": "-II2zYpCsJ8z"
      }
    },
    {
      "cell_type": "code",
      "source": [
        "import numpy as np\n",
        "matrix = np.array([[4, 7],\n",
        "                   [2, 6]])\n",
        "inverse_matrix = np.linalg.inv(matrix)\n",
        "print(\"Original matrix:\")\n",
        "print(matrix)\n",
        "print(\"Inverse matrix:\")\n",
        "print(inverse_matrix)\n"
      ],
      "metadata": {
        "colab": {
          "base_uri": "https://localhost:8080/"
        },
        "id": "3ADrV_ElsF6_",
        "outputId": "f044bc9b-4107-436c-9473-0a37674dbb33"
      },
      "execution_count": null,
      "outputs": [
        {
          "output_type": "stream",
          "name": "stdout",
          "text": [
            "Original matrix:\n",
            "[[4 7]\n",
            " [2 6]]\n",
            "Inverse matrix:\n",
            "[[ 0.6 -0.7]\n",
            " [-0.2  0.4]]\n"
          ]
        }
      ]
    },
    {
      "cell_type": "code",
      "source": [
        "import numpy as np\n",
        "matrix = np.array([[4, 7],\n",
        "                   [2, 6]])\n",
        "determinant = np.linalg.det(matrix)\n",
        "print(\"Original matrix:\")\n",
        "print(matrix)\n",
        "print(\"Determinant:\", determinant)\n"
      ],
      "metadata": {
        "colab": {
          "base_uri": "https://localhost:8080/"
        },
        "id": "-mrlVEg3sYPv",
        "outputId": "49f6e2c3-cfd0-45f1-93fe-dd1db239f705"
      },
      "execution_count": null,
      "outputs": [
        {
          "output_type": "stream",
          "name": "stdout",
          "text": [
            "Original matrix:\n",
            "[[4 7]\n",
            " [2 6]]\n",
            "Determinant: 10.000000000000002\n"
          ]
        }
      ]
    },
    {
      "cell_type": "code",
      "source": [
        "import numpy as np\n",
        "matrix = np.array([[4, 7],\n",
        "                   [2, 6]])\n",
        "eigenvalues, eigenvectors = np.linalg.eig(matrix)\n",
        "print(\"Original matrix:\")\n",
        "print(matrix)\n",
        "print(\"Eigenvalues:\")\n",
        "print(eigenvalues)\n",
        "print(\"Eigenvectors:\")\n",
        "print(eigenvectors)\n"
      ],
      "metadata": {
        "colab": {
          "base_uri": "https://localhost:8080/"
        },
        "id": "jEzvmu4EtGW4",
        "outputId": "a7f63d1f-4210-4016-a5cc-4e72d42b5cb3"
      },
      "execution_count": null,
      "outputs": [
        {
          "output_type": "stream",
          "name": "stdout",
          "text": [
            "Original matrix:\n",
            "[[4 7]\n",
            " [2 6]]\n",
            "Eigenvalues:\n",
            "[1.12701665 8.87298335]\n",
            "Eigenvectors:\n",
            "[[-0.92511345 -0.82071729]\n",
            " [ 0.37969079 -0.57133452]]\n"
          ]
        }
      ]
    },
    {
      "cell_type": "markdown",
      "source": [
        "Sorting"
      ],
      "metadata": {
        "id": "9FwlCVFBtUiR"
      }
    },
    {
      "cell_type": "code",
      "source": [
        "arr = np.array([3, 1, 4, 1, 5, 9, 2, 6, 5, 3, 5])\n",
        "sorted_arr = np.sort(arr)\n",
        "print(\"Original array:\", arr)\n",
        "print(\"Sorted array:\", sorted_arr)\n"
      ],
      "metadata": {
        "colab": {
          "base_uri": "https://localhost:8080/"
        },
        "id": "vxNlavNXtQZU",
        "outputId": "04ceae5b-f8a8-40ec-ffb8-db7548450847"
      },
      "execution_count": null,
      "outputs": [
        {
          "output_type": "stream",
          "name": "stdout",
          "text": [
            "Original array: [3 1 4 1 5 9 2 6 5 3 5]\n",
            "Sorted array: [1 1 2 3 3 4 5 5 5 6 9]\n"
          ]
        }
      ]
    },
    {
      "cell_type": "code",
      "source": [
        "import numpy as np\n",
        "arr = np.array([1, 2, 3, 4, 5])\n",
        "np.save('saved_array.npy', arr)"
      ],
      "metadata": {
        "id": "8ZjqaC6RtpCi"
      },
      "execution_count": null,
      "outputs": []
    },
    {
      "cell_type": "code",
      "source": [
        "import numpy as np\n",
        "loaded_arr = np.load('saved_array.npy')\n",
        "print(\"Loaded array:\", loaded_arr)\n"
      ],
      "metadata": {
        "colab": {
          "base_uri": "https://localhost:8080/"
        },
        "id": "Sx33lDPnt6Oq",
        "outputId": "b48c14d1-6502-4f63-d4f5-64dc58b26ecf"
      },
      "execution_count": null,
      "outputs": [
        {
          "output_type": "stream",
          "name": "stdout",
          "text": [
            "Loaded array: [1 2 3 4 5]\n"
          ]
        }
      ]
    },
    {
      "cell_type": "markdown",
      "source": [
        "Creating Arrays"
      ],
      "metadata": {
        "id": "-ISFYvGfuZw9"
      }
    },
    {
      "cell_type": "code",
      "source": [
        "import numpy as np\n",
        "arr1d = np.array([1, 2, 3, 4, 5])\n",
        "print(\"1D array:\", arr1d)\n"
      ],
      "metadata": {
        "colab": {
          "base_uri": "https://localhost:8080/"
        },
        "id": "MTrdS80xuGn-",
        "outputId": "ad4da72d-503f-4aa0-ddb3-90fefb7f08a7"
      },
      "execution_count": null,
      "outputs": [
        {
          "output_type": "stream",
          "name": "stdout",
          "text": [
            "1D array: [1 2 3 4 5]\n"
          ]
        }
      ]
    },
    {
      "cell_type": "code",
      "source": [
        "arr1d = np.zeros(5)\n",
        "print(\"1D array with zeros:\", arr1d)\n"
      ],
      "metadata": {
        "colab": {
          "base_uri": "https://localhost:8080/"
        },
        "id": "CiOAUwQ6uwfZ",
        "outputId": "89a87c36-621d-45da-80c7-6edb225ab74c"
      },
      "execution_count": null,
      "outputs": [
        {
          "output_type": "stream",
          "name": "stdout",
          "text": [
            "1D array with zeros: [0. 0. 0. 0. 0.]\n"
          ]
        }
      ]
    },
    {
      "cell_type": "code",
      "source": [
        "arr1d = np.ones(5)\n",
        "print(\"1D array with ones:\", arr1d)"
      ],
      "metadata": {
        "colab": {
          "base_uri": "https://localhost:8080/"
        },
        "id": "s2YAYHfQu_q2",
        "outputId": "22666412-461b-4a8b-ee36-6c2b470ee8bb"
      },
      "execution_count": null,
      "outputs": [
        {
          "output_type": "stream",
          "name": "stdout",
          "text": [
            "1D array with ones: [1. 1. 1. 1. 1.]\n"
          ]
        }
      ]
    },
    {
      "cell_type": "code",
      "source": [
        "import numpy as np\n",
        "arr1d = np.arange(5)\n",
        "print(\"1D array:\", arr1d)\n",
        "arr1d_step = np.arange(2, 10, 2)\n",
        "print(\"1D array with step 2:\", arr1d_step)\n",
        "arr1d_float = np.arange(0, 1, 0.1)\n",
        "print(\"1D array with step 0.1:\", arr1d_float)"
      ],
      "metadata": {
        "colab": {
          "base_uri": "https://localhost:8080/"
        },
        "id": "HqpvksfI954k",
        "outputId": "40260ce1-700a-4cc0-a00c-911956448b22"
      },
      "execution_count": null,
      "outputs": [
        {
          "output_type": "stream",
          "name": "stdout",
          "text": [
            "1D array: [0 1 2 3 4]\n",
            "1D array with step 2: [2 4 6 8]\n",
            "1D array with step 0.1: [0.  0.1 0.2 0.3 0.4 0.5 0.6 0.7 0.8 0.9]\n"
          ]
        }
      ]
    },
    {
      "cell_type": "code",
      "source": [
        "arr1d = np.linspace(0, 1, 5)\n",
        "print(\"1D array:\", arr1d)\n",
        "arr1d_custom_range = np.linspace(2, 5, 10)\n",
        "print(\"1D array with custom range:\", arr1d_custom_range)\n",
        "arr1d_pi = np.linspace(0, 2 * np.pi, 20)\n",
        "print(\"1D array with values from 0 to 2*pi:\", arr1d_pi)"
      ],
      "metadata": {
        "colab": {
          "base_uri": "https://localhost:8080/"
        },
        "id": "7bfn6oAH-WQY",
        "outputId": "ff76eae0-94dc-4a90-b731-b85a70a61b3f"
      },
      "execution_count": null,
      "outputs": [
        {
          "output_type": "stream",
          "name": "stdout",
          "text": [
            "1D array: [0.   0.25 0.5  0.75 1.  ]\n",
            "1D array with custom range: [2.         2.33333333 2.66666667 3.         3.33333333 3.66666667\n",
            " 4.         4.33333333 4.66666667 5.        ]\n",
            "1D array with values from 0 to 2*pi: [0.         0.33069396 0.66138793 0.99208189 1.32277585 1.65346982\n",
            " 1.98416378 2.31485774 2.64555171 2.97624567 3.30693964 3.6376336\n",
            " 3.96832756 4.29902153 4.62971549 4.96040945 5.29110342 5.62179738\n",
            " 5.95249134 6.28318531]\n"
          ]
        }
      ]
    },
    {
      "cell_type": "code",
      "source": [
        "identity_int = np.eye(4, dtype=int)\n",
        "print(\"\\n4x4 Identity matrix with integers:\")\n",
        "print(identity_int)"
      ],
      "metadata": {
        "colab": {
          "base_uri": "https://localhost:8080/"
        },
        "id": "WrepBjko-iSI",
        "outputId": "5178c5ad-d8b5-4f69-926e-c93d1eda5b13"
      },
      "execution_count": null,
      "outputs": [
        {
          "output_type": "stream",
          "name": "stdout",
          "text": [
            "\n",
            "4x4 Identity matrix with integers:\n",
            "[[1 0 0 0]\n",
            " [0 1 0 0]\n",
            " [0 0 1 0]\n",
            " [0 0 0 1]]\n"
          ]
        }
      ]
    },
    {
      "cell_type": "markdown",
      "source": [
        "Array Information"
      ],
      "metadata": {
        "id": "9Ob3aCLr-wwa"
      }
    },
    {
      "cell_type": "code",
      "source": [
        "import numpy as np\n",
        "arr_1d = np.array([1, 2, 3, 4, 5])\n",
        "print(\"1D array shape:\", arr_1d.shape)"
      ],
      "metadata": {
        "colab": {
          "base_uri": "https://localhost:8080/"
        },
        "id": "WFZcodph-yK3",
        "outputId": "a89cbaf1-04cc-4f7c-9933-fdc8984d909c"
      },
      "execution_count": null,
      "outputs": [
        {
          "output_type": "stream",
          "name": "stdout",
          "text": [
            "1D array shape: (5,)\n"
          ]
        }
      ]
    },
    {
      "cell_type": "code",
      "source": [
        "arr_1d = np.array([1, 2, 3, 4, 5])\n",
        "print(\"Number of dimensions for arr_1d:\", arr_1d.ndim)"
      ],
      "metadata": {
        "colab": {
          "base_uri": "https://localhost:8080/"
        },
        "id": "0magvez--_tI",
        "outputId": "19bf4ce2-03db-43b5-a313-b05d694a8169"
      },
      "execution_count": null,
      "outputs": [
        {
          "output_type": "stream",
          "name": "stdout",
          "text": [
            "Number of dimensions for arr_1d: 1\n"
          ]
        }
      ]
    },
    {
      "cell_type": "code",
      "source": [
        "arr_1d = np.array([1, 2, 3, 4, 5])\n",
        "print(\"Size of arr_1d:\", arr_1d.size)"
      ],
      "metadata": {
        "colab": {
          "base_uri": "https://localhost:8080/"
        },
        "id": "FE_-dCbF_LVu",
        "outputId": "3eaa04bd-7f38-41a8-a692-2d2763ab4a95"
      },
      "execution_count": null,
      "outputs": [
        {
          "output_type": "stream",
          "name": "stdout",
          "text": [
            "Size of arr_1d: 5\n"
          ]
        }
      ]
    },
    {
      "cell_type": "code",
      "source": [
        "import numpy as np\n",
        "my_array = np.array([1, 2, 3, 4, 5])\n",
        "data_type = my_array.dtype\n",
        "\n",
        "print(\"Data type of array elements:\", data_type)\n"
      ],
      "metadata": {
        "colab": {
          "base_uri": "https://localhost:8080/"
        },
        "id": "mJNT3SozyBQH",
        "outputId": "5b0dbfaf-e59e-4724-9fed-a61173c1dad4"
      },
      "execution_count": null,
      "outputs": [
        {
          "output_type": "stream",
          "name": "stdout",
          "text": [
            "Data type of array elements: int64\n"
          ]
        }
      ]
    }
  ]
}